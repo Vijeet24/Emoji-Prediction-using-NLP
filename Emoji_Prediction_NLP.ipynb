{
 "cells": [
  {
   "cell_type": "code",
   "execution_count": null,
   "metadata": {},
   "outputs": [],
   "source": [
    "pip install emoji"
   ]
  },
  {
   "cell_type": "code",
   "execution_count": null,
   "metadata": {},
   "outputs": [],
   "source": [
    "import emoji"
   ]
  },
  {
   "cell_type": "code",
   "execution_count": null,
   "metadata": {},
   "outputs": [],
   "source": [
    "emoji.EMOJI_UNICODE"
   ]
  },
  {
   "cell_type": "code",
   "execution_count": 1,
   "metadata": {},
   "outputs": [],
   "source": [
    "#Processing a custom dataset\n",
    "import pandas as pd \n",
    "import numpy as np"
   ]
  },
  {
   "cell_type": "code",
   "execution_count": null,
   "metadata": {},
   "outputs": [],
   "source": [
    "train = pd.read_csv(\"train_dataset\",header = none)(\n",
    "test = pd.read_csv(\"test_dataset)\",header = none)"
   ]
  },
  {
   "cell_type": "code",
   "execution_count": null,
   "metadata": {},
   "outputs": [],
   "source": [
    "train.head()"
   ]
  },
  {
   "cell_type": "code",
   "execution_count": null,
   "metadata": {},
   "outputs": [],
   "source": [
    "data =train.values\n",
    "print(data.shape())"
   ]
  },
  {
   "cell_type": "code",
   "execution_count": null,
   "metadata": {},
   "outputs": [],
   "source": [
    "X_Train = Train[0]\n",
    "Y_Train = Train[1]\n",
    "\n",
    "X_test = test[0]\n",
    "Y_test = test[1]\n"
   ]
  },
  {
   "cell_type": "code",
   "execution_count": null,
   "metadata": {},
   "outputs": [],
   "source": [
    "for i in range(5):\n",
    "    print(X_Train[i],emojize.emoji_dictionary[str(Y_Train[i])"
   ]
  },
  {
   "cell_type": "code",
   "execution_count": null,
   "metadata": {},
   "outputs": [],
   "source": [
    "#convert sentences into embeddings\n",
    "#download glove vector\n",
    "\n",
    "f =open(\"glove.6B.50D.txt\",encoding = utf-8)"
   ]
  },
  {
   "cell_type": "code",
   "execution_count": null,
   "metadata": {},
   "outputs": [],
   "source": [
    "embbeding_index = {}\n",
    "\n",
    "for line in f:\n",
    "    values = line.split()\n",
    "    word = values[0]\n",
    "    idx = np.asarray(values[1:],dtype = 'float')\n",
    "    embbeding_index[word] = idx\n",
    "    \n",
    "f.close()"
   ]
  },
  {
   "cell_type": "code",
   "execution_count": null,
   "metadata": {},
   "outputs": [],
   "source": [
    "emb_dim =embbeding_index[\"eat\"].shape{0}"
   ]
  },
  {
   "cell_type": "code",
   "execution_count": 2,
   "metadata": {},
   "outputs": [],
   "source": [
    "#converting sentences into vectors"
   ]
  },
  {
   "cell_type": "code",
   "execution_count": null,
   "metadata": {},
   "outputs": [],
   "source": [
    "def embbeding_output(X):\n",
    "    max_len = 10\n",
    "    embbeding_out = np.zeroes(X.shape[0],max_len,emb_dim)\n",
    "    \n",
    "    \n",
    "    for ix in range(X.shape[0]):\n",
    "        X[ix] = [ix].split\n",
    "        \n",
    "        for ij in range(len(X[ix])):\n",
    "            \n",
    "            try :\n",
    "                embbeding_out[ix][ij] = embbeding_index[ix][ij].lower()\n",
    "                \n",
    "            expcet:\n",
    "                embbeding_out[ix][ij] = np.zeroes((50,))\n",
    "    \n",
    "    \n",
    "    return embbeding_out\n",
    "            \n",
    "    \n",
    "    \n",
    "embbeding_metrix_train = embbeding_output(X_Train)\n",
    "embbeding_metrix_test = embbeding_output(X_test)        \n",
    "        "
   ]
  },
  {
   "cell_type": "code",
   "execution_count": null,
   "metadata": {},
   "outputs": [],
   "source": [
    "print(X_Train[0])\n",
    "print(len(X_Train[0]))"
   ]
  },
  {
   "cell_type": "code",
   "execution_count": null,
   "metadata": {},
   "outputs": [],
   "source": [
    "print(embbeding_matrix_train.shape())\n",
    "print(embbeding_metrix_test.shape())"
   ]
  },
  {
   "cell_type": "code",
   "execution_count": null,
   "metadata": {},
   "outputs": [],
   "source": [
    "#define RNN/LSTM Model"
   ]
  },
  {
   "cell_type": "code",
   "execution_count": null,
   "metadata": {},
   "outputs": [],
   "source": [
    "from keras.utils import to_categorical"
   ]
  },
  {
   "cell_type": "code",
   "execution_count": null,
   "metadata": {},
   "outputs": [],
   "source": [
    "X_Train = to_categorical(X_Train,num_classes = 5)\n",
    "Y_Train = to_categorical(Y_Train,num_classes = 5)"
   ]
  },
  {
   "cell_type": "code",
   "execution_count": null,
   "metadata": {},
   "outputs": [],
   "source": [
    "from keras import sequential \n",
    "from keras.layers import *"
   ]
  },
  {
   "cell_type": "code",
   "execution_count": null,
   "metadata": {},
   "outputs": [],
   "source": [
    "model = sequential()\n",
    "model.add(LSTM(64,input_shape(10,50),return_sequences = true))\n",
    "model.add(Dropout(0.5))\n",
    "model.add(LSTM(64,return_sequences = false))\n",
    "model.add(dense(5))\n",
    "model.add(activation('softmax'))\n",
    "model.compile(loss='categorical_cross_entropy',optimizer='adam',matrices=['accuracy'])\n",
    "model.summary()"
   ]
  },
  {
   "cell_type": "code",
   "execution_count": null,
   "metadata": {},
   "outputs": [],
   "source": [
    "from keras.callbacks import earlystopping\n",
    "from keras.callbacks import modelcheckpoint\n",
    "\n",
    "checkpoint = modelcheckpoint('best_model.h5',monitor = 'vall_acc',verbos = true , save_best_only = true)\n",
    "earlystop = earlystopping(monitor = 'val_acc' , patience = 10)\n",
    "\n",
    "hist = model.fit(embbeding_matrix_train,Y_Train,epochs = 100,batch_size= 64,shuffle = true , validation_split = 0.2)"
   ]
  },
  {
   "cell_type": "code",
   "execution_count": null,
   "metadata": {},
   "outputs": [],
   "source": [
    "pred = model.predict_classes(embbeding_matrix_test)"
   ]
  },
  {
   "cell_type": "code",
   "execution_count": null,
   "metadata": {},
   "outputs": [],
   "source": [
    "model.load_weights('best_model.h5')"
   ]
  },
  {
   "cell_type": "code",
   "execution_count": null,
   "metadata": {},
   "outputs": [],
   "source": [
    "model.evaluate(embbeding_matrix_test,Y_test)"
   ]
  },
  {
   "cell_type": "code",
   "execution_count": null,
   "metadata": {},
   "outputs": [],
   "source": [
    "pred2 = model.predict_calsses(X)"
   ]
  },
  {
   "cell_type": "code",
   "execution_count": null,
   "metadata": {},
   "outputs": [],
   "source": [
    "for i in range(30):\n",
    "    print(''.join(X[i]))\n",
    "    print(emoji.emojize(emoji_dictionary[str(np.argmax(Y[i]))]))\n",
    "    print(emoji.emojize(emoji_dictionary[str(pred[i])]))"
   ]
  },
  {
   "cell_type": "code",
   "execution_count": null,
   "metadata": {},
   "outputs": [],
   "source": []
  },
  {
   "cell_type": "code",
   "execution_count": null,
   "metadata": {},
   "outputs": [],
   "source": []
  }
 ],
 "metadata": {
  "kernelspec": {
   "display_name": "Python 3",
   "language": "python",
   "name": "python3"
  },
  "language_info": {
   "codemirror_mode": {
    "name": "ipython",
    "version": 3
   },
   "file_extension": ".py",
   "mimetype": "text/x-python",
   "name": "python",
   "nbconvert_exporter": "python",
   "pygments_lexer": "ipython3",
   "version": "3.8.5"
  }
 },
 "nbformat": 4,
 "nbformat_minor": 4
}
